{
 "cells": [
  {
   "cell_type": "markdown",
   "id": "30937107-5964-471c-8f98-7317faad6671",
   "metadata": {},
   "source": [
    "### Important libraries\n"
   ]
  },
  {
   "cell_type": "code",
   "execution_count": 1,
   "id": "2ef276b8-b9be-4f15-8c4e-8b8efd762d2f",
   "metadata": {},
   "outputs": [],
   "source": [
    "import pandas as pd\n",
    "import numpy as np\n",
    "import matplotlib.pyplot as plt\n",
    "import seaborn as sns\n",
    "from sklearn.preprocessing import MinMaxScaler\n",
    "from tensorflow.keras.models import Sequential\n",
    "from tensorflow.keras.layers import Conv1D, Dense, Dropout, Flatten\n",
    "from tensorflow.keras.callbacks import EarlyStopping"
   ]
  },
  {
   "cell_type": "markdown",
   "id": "eee6668b-8bbb-485a-953c-83a79eb97b6f",
   "metadata": {},
   "source": [
    "#### Load Preprocessed Dataset"
   ]
  },
  {
   "cell_type": "code",
   "execution_count": 2,
   "id": "eaafd5cf-5c3a-4bdf-97a0-f9ef915772c3",
   "metadata": {},
   "outputs": [],
   "source": [
    "file_path = r\"M:\\Data from Data is good\\Exercises on Weather Prediction Time Series Forecasting\\Weather-in-Szeged-2006-2016-master\""
   ]
  },
  {
   "cell_type": "code",
   "execution_count": 3,
   "id": "abfac306-8aa6-4bce-811f-48b7e99a83de",
   "metadata": {},
   "outputs": [],
   "source": [
    "df = pd.read_csv(file_path + '\\weather_preprocessed.csv', index_col=0, parse_dates=True)"
   ]
  },
  {
   "cell_type": "code",
   "execution_count": 4,
   "id": "e39e14d4-23ae-4337-bbd8-5d201396188b",
   "metadata": {},
   "outputs": [
    {
     "data": {
      "text/html": [
       "<div>\n",
       "<style scoped>\n",
       "    .dataframe tbody tr th:only-of-type {\n",
       "        vertical-align: middle;\n",
       "    }\n",
       "\n",
       "    .dataframe tbody tr th {\n",
       "        vertical-align: top;\n",
       "    }\n",
       "\n",
       "    .dataframe thead th {\n",
       "        text-align: right;\n",
       "    }\n",
       "</style>\n",
       "<table border=\"1\" class=\"dataframe\">\n",
       "  <thead>\n",
       "    <tr style=\"text-align: right;\">\n",
       "      <th></th>\n",
       "      <th>Summary</th>\n",
       "      <th>Precip Type</th>\n",
       "      <th>Temperature (C)</th>\n",
       "      <th>Apparent Temperature (C)</th>\n",
       "      <th>Humidity</th>\n",
       "      <th>Wind Speed (km/h)</th>\n",
       "      <th>Wind Bearing (degrees)</th>\n",
       "      <th>Visibility (km)</th>\n",
       "      <th>Loud Cover</th>\n",
       "      <th>Pressure (millibars)</th>\n",
       "      <th>...</th>\n",
       "      <th>DayOfYear</th>\n",
       "      <th>Hour</th>\n",
       "      <th>Month</th>\n",
       "      <th>Weekday</th>\n",
       "      <th>Sin_DayOfYear</th>\n",
       "      <th>Cos_DayOfYear</th>\n",
       "      <th>Sin_Hour</th>\n",
       "      <th>Cos_Hour</th>\n",
       "      <th>IsRain</th>\n",
       "      <th>IsSnow</th>\n",
       "    </tr>\n",
       "    <tr>\n",
       "      <th>Formatted Date</th>\n",
       "      <th></th>\n",
       "      <th></th>\n",
       "      <th></th>\n",
       "      <th></th>\n",
       "      <th></th>\n",
       "      <th></th>\n",
       "      <th></th>\n",
       "      <th></th>\n",
       "      <th></th>\n",
       "      <th></th>\n",
       "      <th></th>\n",
       "      <th></th>\n",
       "      <th></th>\n",
       "      <th></th>\n",
       "      <th></th>\n",
       "      <th></th>\n",
       "      <th></th>\n",
       "      <th></th>\n",
       "      <th></th>\n",
       "      <th></th>\n",
       "      <th></th>\n",
       "    </tr>\n",
       "  </thead>\n",
       "  <tbody>\n",
       "    <tr>\n",
       "      <th>2005-12-31 23:00:00+00:00</th>\n",
       "      <td>Partly Cloudy</td>\n",
       "      <td>rain</td>\n",
       "      <td>0.577778</td>\n",
       "      <td>-4.050000</td>\n",
       "      <td>0.89</td>\n",
       "      <td>17.1143</td>\n",
       "      <td>140.0</td>\n",
       "      <td>9.9820</td>\n",
       "      <td>0.0</td>\n",
       "      <td>1016.66</td>\n",
       "      <td>...</td>\n",
       "      <td>365</td>\n",
       "      <td>23</td>\n",
       "      <td>12</td>\n",
       "      <td>5</td>\n",
       "      <td>6.432491e-16</td>\n",
       "      <td>1.000000</td>\n",
       "      <td>-0.258819</td>\n",
       "      <td>0.965926</td>\n",
       "      <td>1</td>\n",
       "      <td>0</td>\n",
       "    </tr>\n",
       "    <tr>\n",
       "      <th>2006-01-01 00:00:00+00:00</th>\n",
       "      <td>Mostly Cloudy</td>\n",
       "      <td>rain</td>\n",
       "      <td>1.161111</td>\n",
       "      <td>-3.238889</td>\n",
       "      <td>0.85</td>\n",
       "      <td>16.6152</td>\n",
       "      <td>139.0</td>\n",
       "      <td>9.9015</td>\n",
       "      <td>0.0</td>\n",
       "      <td>1016.15</td>\n",
       "      <td>...</td>\n",
       "      <td>1</td>\n",
       "      <td>0</td>\n",
       "      <td>1</td>\n",
       "      <td>6</td>\n",
       "      <td>1.721336e-02</td>\n",
       "      <td>0.999852</td>\n",
       "      <td>0.000000</td>\n",
       "      <td>1.000000</td>\n",
       "      <td>1</td>\n",
       "      <td>0</td>\n",
       "    </tr>\n",
       "    <tr>\n",
       "      <th>2006-01-01 01:00:00+00:00</th>\n",
       "      <td>Mostly Cloudy</td>\n",
       "      <td>rain</td>\n",
       "      <td>1.666667</td>\n",
       "      <td>-3.155556</td>\n",
       "      <td>0.82</td>\n",
       "      <td>20.2538</td>\n",
       "      <td>140.0</td>\n",
       "      <td>9.9015</td>\n",
       "      <td>0.0</td>\n",
       "      <td>1015.87</td>\n",
       "      <td>...</td>\n",
       "      <td>1</td>\n",
       "      <td>1</td>\n",
       "      <td>1</td>\n",
       "      <td>6</td>\n",
       "      <td>1.721336e-02</td>\n",
       "      <td>0.999852</td>\n",
       "      <td>0.258819</td>\n",
       "      <td>0.965926</td>\n",
       "      <td>1</td>\n",
       "      <td>0</td>\n",
       "    </tr>\n",
       "    <tr>\n",
       "      <th>2006-01-01 02:00:00+00:00</th>\n",
       "      <td>Overcast</td>\n",
       "      <td>rain</td>\n",
       "      <td>1.711111</td>\n",
       "      <td>-2.194444</td>\n",
       "      <td>0.82</td>\n",
       "      <td>14.4900</td>\n",
       "      <td>140.0</td>\n",
       "      <td>9.9015</td>\n",
       "      <td>0.0</td>\n",
       "      <td>1015.56</td>\n",
       "      <td>...</td>\n",
       "      <td>1</td>\n",
       "      <td>2</td>\n",
       "      <td>1</td>\n",
       "      <td>6</td>\n",
       "      <td>1.721336e-02</td>\n",
       "      <td>0.999852</td>\n",
       "      <td>0.500000</td>\n",
       "      <td>0.866025</td>\n",
       "      <td>1</td>\n",
       "      <td>0</td>\n",
       "    </tr>\n",
       "    <tr>\n",
       "      <th>2006-01-01 03:00:00+00:00</th>\n",
       "      <td>Mostly Cloudy</td>\n",
       "      <td>rain</td>\n",
       "      <td>1.183333</td>\n",
       "      <td>-2.744444</td>\n",
       "      <td>0.86</td>\n",
       "      <td>13.9426</td>\n",
       "      <td>134.0</td>\n",
       "      <td>9.9015</td>\n",
       "      <td>0.0</td>\n",
       "      <td>1014.98</td>\n",
       "      <td>...</td>\n",
       "      <td>1</td>\n",
       "      <td>3</td>\n",
       "      <td>1</td>\n",
       "      <td>6</td>\n",
       "      <td>1.721336e-02</td>\n",
       "      <td>0.999852</td>\n",
       "      <td>0.707107</td>\n",
       "      <td>0.707107</td>\n",
       "      <td>1</td>\n",
       "      <td>0</td>\n",
       "    </tr>\n",
       "  </tbody>\n",
       "</table>\n",
       "<p>5 rows × 21 columns</p>\n",
       "</div>"
      ],
      "text/plain": [
       "                                 Summary Precip Type  Temperature (C)  \\\n",
       "Formatted Date                                                          \n",
       "2005-12-31 23:00:00+00:00  Partly Cloudy        rain         0.577778   \n",
       "2006-01-01 00:00:00+00:00  Mostly Cloudy        rain         1.161111   \n",
       "2006-01-01 01:00:00+00:00  Mostly Cloudy        rain         1.666667   \n",
       "2006-01-01 02:00:00+00:00       Overcast        rain         1.711111   \n",
       "2006-01-01 03:00:00+00:00  Mostly Cloudy        rain         1.183333   \n",
       "\n",
       "                           Apparent Temperature (C)  Humidity  \\\n",
       "Formatted Date                                                  \n",
       "2005-12-31 23:00:00+00:00                 -4.050000      0.89   \n",
       "2006-01-01 00:00:00+00:00                 -3.238889      0.85   \n",
       "2006-01-01 01:00:00+00:00                 -3.155556      0.82   \n",
       "2006-01-01 02:00:00+00:00                 -2.194444      0.82   \n",
       "2006-01-01 03:00:00+00:00                 -2.744444      0.86   \n",
       "\n",
       "                           Wind Speed (km/h)  Wind Bearing (degrees)  \\\n",
       "Formatted Date                                                         \n",
       "2005-12-31 23:00:00+00:00            17.1143                   140.0   \n",
       "2006-01-01 00:00:00+00:00            16.6152                   139.0   \n",
       "2006-01-01 01:00:00+00:00            20.2538                   140.0   \n",
       "2006-01-01 02:00:00+00:00            14.4900                   140.0   \n",
       "2006-01-01 03:00:00+00:00            13.9426                   134.0   \n",
       "\n",
       "                           Visibility (km)  Loud Cover  Pressure (millibars)  \\\n",
       "Formatted Date                                                                 \n",
       "2005-12-31 23:00:00+00:00           9.9820         0.0               1016.66   \n",
       "2006-01-01 00:00:00+00:00           9.9015         0.0               1016.15   \n",
       "2006-01-01 01:00:00+00:00           9.9015         0.0               1015.87   \n",
       "2006-01-01 02:00:00+00:00           9.9015         0.0               1015.56   \n",
       "2006-01-01 03:00:00+00:00           9.9015         0.0               1014.98   \n",
       "\n",
       "                           ... DayOfYear  Hour  Month  Weekday  Sin_DayOfYear  \\\n",
       "Formatted Date             ...                                                  \n",
       "2005-12-31 23:00:00+00:00  ...       365    23     12        5   6.432491e-16   \n",
       "2006-01-01 00:00:00+00:00  ...         1     0      1        6   1.721336e-02   \n",
       "2006-01-01 01:00:00+00:00  ...         1     1      1        6   1.721336e-02   \n",
       "2006-01-01 02:00:00+00:00  ...         1     2      1        6   1.721336e-02   \n",
       "2006-01-01 03:00:00+00:00  ...         1     3      1        6   1.721336e-02   \n",
       "\n",
       "                           Cos_DayOfYear  Sin_Hour  Cos_Hour  IsRain  IsSnow  \n",
       "Formatted Date                                                                \n",
       "2005-12-31 23:00:00+00:00       1.000000 -0.258819  0.965926       1       0  \n",
       "2006-01-01 00:00:00+00:00       0.999852  0.000000  1.000000       1       0  \n",
       "2006-01-01 01:00:00+00:00       0.999852  0.258819  0.965926       1       0  \n",
       "2006-01-01 02:00:00+00:00       0.999852  0.500000  0.866025       1       0  \n",
       "2006-01-01 03:00:00+00:00       0.999852  0.707107  0.707107       1       0  \n",
       "\n",
       "[5 rows x 21 columns]"
      ]
     },
     "execution_count": 4,
     "metadata": {},
     "output_type": "execute_result"
    }
   ],
   "source": [
    "df.head()"
   ]
  },
  {
   "cell_type": "code",
   "execution_count": 5,
   "id": "89250690-a574-4f2a-a01d-be506ef21ea1",
   "metadata": {},
   "outputs": [
    {
     "data": {
      "text/plain": [
       "Index(['Summary', 'Precip Type', 'Temperature (C)', 'Apparent Temperature (C)',\n",
       "       'Humidity', 'Wind Speed (km/h)', 'Wind Bearing (degrees)',\n",
       "       'Visibility (km)', 'Loud Cover', 'Pressure (millibars)',\n",
       "       'Daily Summary', 'DayOfYear', 'Hour', 'Month', 'Weekday',\n",
       "       'Sin_DayOfYear', 'Cos_DayOfYear', 'Sin_Hour', 'Cos_Hour', 'IsRain',\n",
       "       'IsSnow'],\n",
       "      dtype='object')"
      ]
     },
     "execution_count": 5,
     "metadata": {},
     "output_type": "execute_result"
    }
   ],
   "source": [
    "df.columns"
   ]
  },
  {
   "cell_type": "markdown",
   "id": "dcf114df-78c2-4c47-a9ad-0f4d2ee93d37",
   "metadata": {},
   "source": [
    "#### Choose Your Input Features and Target"
   ]
  },
  {
   "cell_type": "code",
   "execution_count": 6,
   "id": "60f91992-222c-4ef9-aea6-41d2ad981cc9",
   "metadata": {},
   "outputs": [],
   "source": [
    "feature_cols = [\n",
    "    'Humidity',\n",
    "    'Wind Speed (km/h)',\n",
    "    'Wind Bearing (degrees)',\n",
    "    'Visibility (km)',\n",
    "    'Pressure (millibars)',\n",
    "    'Sin_DayOfYear',\n",
    "    'Cos_DayOfYear',\n",
    "    'Sin_Hour',\n",
    "    'Cos_Hour',\n",
    "    'IsRain',\n",
    "    'IsSnow'\n",
    "]\n",
    "\n",
    "target_col = 'Temperature (C)'"
   ]
  },
  {
   "cell_type": "markdown",
   "id": "e82d94cf-0d4c-44f0-b537-de26f74d8077",
   "metadata": {},
   "source": [
    "#### Split into Train/Val/Test Chronologically"
   ]
  },
  {
   "cell_type": "code",
   "execution_count": 7,
   "id": "9a11ea40-5cec-4eea-872d-15d978a7f675",
   "metadata": {},
   "outputs": [],
   "source": [
    "train_df = df.loc['2006-01-01':'2014-12-31']\n",
    "val_df   = df.loc['2015-01-01':'2015-12-31']\n",
    "test_df  = df.loc['2016-01-01':'2016-12-31']"
   ]
  },
  {
   "cell_type": "markdown",
   "id": "81ccc826-559a-487f-9b9b-ab0e1114ba6a",
   "metadata": {},
   "source": [
    "#### Scale features and target"
   ]
  },
  {
   "cell_type": "code",
   "execution_count": 8,
   "id": "c6246f59-32c3-4f6a-a214-ba6fec559b6a",
   "metadata": {},
   "outputs": [],
   "source": [
    "from sklearn.preprocessing import MinMaxScaler\n",
    "\n",
    "scaler_X = MinMaxScaler()\n",
    "scaler_y = MinMaxScaler()\n",
    "\n",
    "X_train = scaler_X.fit_transform(train_df[feature_cols])\n",
    "X_val   = scaler_X.transform(val_df[feature_cols])\n",
    "X_test  = scaler_X.transform(test_df[feature_cols])\n",
    "\n",
    "y_train = scaler_y.fit_transform(train_df[[target_col]])\n",
    "y_val   = scaler_y.transform(val_df[[target_col]])\n",
    "y_test  = scaler_y.transform(test_df[[target_col]])"
   ]
  },
  {
   "cell_type": "code",
   "execution_count": 9,
   "id": "9897c8c2-6592-411b-99d1-7821fd7231c8",
   "metadata": {},
   "outputs": [],
   "source": [
    "def create_sequences(X, y, window_size):\n",
    "    Xs, ys = [], []\n",
    "    for i in range(len(X) - window_size):\n",
    "        Xs.append(X[i:i+window_size])\n",
    "        ys.append(y[i+window_size])\n",
    "    return np.array(Xs), np.array(ys)"
   ]
  },
  {
   "cell_type": "code",
   "execution_count": 10,
   "id": "80bb85c0-764b-42f1-917a-ef5db4ed863e",
   "metadata": {},
   "outputs": [],
   "source": [
    "window_size = 168  # Using last 168 hours to predict the next hour\n",
    "\n",
    "X_train_seq, y_train_seq = create_sequences(X_train, y_train, window_size)\n",
    "X_val_seq, y_val_seq     = create_sequences(X_val, y_val, window_size)\n",
    "X_test_seq, y_test_seq   = create_sequences(X_test, y_test, window_size)"
   ]
  },
  {
   "cell_type": "code",
   "execution_count": 11,
   "id": "b405516c-df5d-43b9-9155-dd19ef66cbd6",
   "metadata": {},
   "outputs": [],
   "source": [
    "X_train_seq = X_train_seq.reshape((X_train_seq.shape[0], X_train_seq.shape[1], X_train_seq.shape[2]))"
   ]
  },
  {
   "cell_type": "markdown",
   "id": "232fec48-bbe4-4bd6-9b63-85c44f2495be",
   "metadata": {},
   "source": [
    "## Build CNN Model"
   ]
  },
  {
   "cell_type": "code",
   "execution_count": 12,
   "id": "bd470a8b-8a7a-44b4-98af-126f112bc75b",
   "metadata": {},
   "outputs": [
    {
     "name": "stderr",
     "output_type": "stream",
     "text": [
      "M:\\Data from Data is good\\Exercises on Machine Learning for Financial Data\\fraud_env\\env\\lib\\site-packages\\keras\\src\\layers\\convolutional\\base_conv.py:113: UserWarning: Do not pass an `input_shape`/`input_dim` argument to a layer. When using Sequential models, prefer using an `Input(shape)` object as the first layer in the model instead.\n",
      "  super().__init__(activity_regularizer=activity_regularizer, **kwargs)\n"
     ]
    }
   ],
   "source": [
    "from tensorflow.keras.models import Sequential\n",
    "from tensorflow.keras.layers import Conv1D, Dense, Dropout, Flatten\n",
    "\n",
    "model = Sequential([\n",
    "    Conv1D(filters=32, kernel_size=3, activation='relu', input_shape=(window_size, len(feature_cols))),\n",
    "    Dropout(0.2),\n",
    "    Flatten(),\n",
    "    Dense(64, activation='relu'),\n",
    "    Dense(1)\n",
    "])\n",
    "\n",
    "model.compile(optimizer='adam', loss='mse')"
   ]
  },
  {
   "cell_type": "markdown",
   "id": "97ebf318-6880-42fd-b4fa-21c4d262b0a6",
   "metadata": {},
   "source": [
    "#### Train & Evaluate"
   ]
  },
  {
   "cell_type": "code",
   "execution_count": 13,
   "id": "e3972cf2-8d3d-419d-bbbe-e38e875d5fed",
   "metadata": {},
   "outputs": [],
   "source": [
    "early_stop = EarlyStopping(\n",
    "    monitor='val_loss',      # Watch validation loss\n",
    "    patience=5,              # Stop if no improvement after 5 epochs\n",
    "    restore_best_weights=True  # Revert to the best epoch\n",
    ")"
   ]
  },
  {
   "cell_type": "code",
   "execution_count": 14,
   "id": "ac3e3594-7ddc-4be7-8061-5dcc2a6296c2",
   "metadata": {},
   "outputs": [
    {
     "name": "stdout",
     "output_type": "stream",
     "text": [
      "Epoch 1/30\n",
      "\u001b[1m1231/1231\u001b[0m \u001b[32m━━━━━━━━━━━━━━━━━━━━\u001b[0m\u001b[37m\u001b[0m \u001b[1m12s\u001b[0m 9ms/step - loss: 0.2001 - val_loss: 0.2815\n",
      "Epoch 2/30\n",
      "\u001b[1m1231/1231\u001b[0m \u001b[32m━━━━━━━━━━━━━━━━━━━━\u001b[0m\u001b[37m\u001b[0m \u001b[1m9s\u001b[0m 8ms/step - loss: 0.0064 - val_loss: 0.0264\n",
      "Epoch 3/30\n",
      "\u001b[1m1231/1231\u001b[0m \u001b[32m━━━━━━━━━━━━━━━━━━━━\u001b[0m\u001b[37m\u001b[0m \u001b[1m11s\u001b[0m 9ms/step - loss: 0.0050 - val_loss: 0.0285\n",
      "Epoch 4/30\n",
      "\u001b[1m1231/1231\u001b[0m \u001b[32m━━━━━━━━━━━━━━━━━━━━\u001b[0m\u001b[37m\u001b[0m \u001b[1m10s\u001b[0m 8ms/step - loss: 0.0043 - val_loss: 0.0389\n",
      "Epoch 5/30\n",
      "\u001b[1m1231/1231\u001b[0m \u001b[32m━━━━━━━━━━━━━━━━━━━━\u001b[0m\u001b[37m\u001b[0m \u001b[1m11s\u001b[0m 9ms/step - loss: 0.0043 - val_loss: 0.0277\n",
      "Epoch 6/30\n",
      "\u001b[1m1231/1231\u001b[0m \u001b[32m━━━━━━━━━━━━━━━━━━━━\u001b[0m\u001b[37m\u001b[0m \u001b[1m11s\u001b[0m 9ms/step - loss: 0.0039 - val_loss: 0.0062\n",
      "Epoch 7/30\n",
      "\u001b[1m1231/1231\u001b[0m \u001b[32m━━━━━━━━━━━━━━━━━━━━\u001b[0m\u001b[37m\u001b[0m \u001b[1m11s\u001b[0m 9ms/step - loss: 0.0036 - val_loss: 0.0181\n",
      "Epoch 8/30\n",
      "\u001b[1m1231/1231\u001b[0m \u001b[32m━━━━━━━━━━━━━━━━━━━━\u001b[0m\u001b[37m\u001b[0m \u001b[1m11s\u001b[0m 9ms/step - loss: 0.0037 - val_loss: 0.0066\n",
      "Epoch 9/30\n",
      "\u001b[1m1231/1231\u001b[0m \u001b[32m━━━━━━━━━━━━━━━━━━━━\u001b[0m\u001b[37m\u001b[0m \u001b[1m11s\u001b[0m 9ms/step - loss: 0.0035 - val_loss: 0.0113\n",
      "Epoch 10/30\n",
      "\u001b[1m1231/1231\u001b[0m \u001b[32m━━━━━━━━━━━━━━━━━━━━\u001b[0m\u001b[37m\u001b[0m \u001b[1m11s\u001b[0m 9ms/step - loss: 0.0034 - val_loss: 0.0026\n",
      "Epoch 11/30\n",
      "\u001b[1m1231/1231\u001b[0m \u001b[32m━━━━━━━━━━━━━━━━━━━━\u001b[0m\u001b[37m\u001b[0m \u001b[1m11s\u001b[0m 9ms/step - loss: 0.0031 - val_loss: 0.0090\n",
      "Epoch 12/30\n",
      "\u001b[1m1231/1231\u001b[0m \u001b[32m━━━━━━━━━━━━━━━━━━━━\u001b[0m\u001b[37m\u001b[0m \u001b[1m12s\u001b[0m 9ms/step - loss: 0.0031 - val_loss: 0.0028\n",
      "Epoch 13/30\n",
      "\u001b[1m1231/1231\u001b[0m \u001b[32m━━━━━━━━━━━━━━━━━━━━\u001b[0m\u001b[37m\u001b[0m \u001b[1m21s\u001b[0m 10ms/step - loss: 0.0030 - val_loss: 0.0075\n",
      "Epoch 14/30\n",
      "\u001b[1m1231/1231\u001b[0m \u001b[32m━━━━━━━━━━━━━━━━━━━━\u001b[0m\u001b[37m\u001b[0m \u001b[1m13s\u001b[0m 11ms/step - loss: 0.0030 - val_loss: 0.0027\n",
      "Epoch 15/30\n",
      "\u001b[1m1231/1231\u001b[0m \u001b[32m━━━━━━━━━━━━━━━━━━━━\u001b[0m\u001b[37m\u001b[0m \u001b[1m11s\u001b[0m 9ms/step - loss: 0.0029 - val_loss: 0.0028\n"
     ]
    }
   ],
   "source": [
    "history = model.fit(\n",
    "    X_train_seq, y_train_seq,\n",
    "    validation_data=(X_val_seq, y_val_seq),\n",
    "    epochs=30,\n",
    "    batch_size=64,\n",
    "    shuffle=False,\n",
    "    callbacks=[early_stop]\n",
    ")"
   ]
  },
  {
   "cell_type": "markdown",
   "id": "85ca296c-b8d1-47eb-aa63-73a63daa1628",
   "metadata": {},
   "source": [
    "#### Stack another Conv1D layer"
   ]
  },
  {
   "cell_type": "code",
   "execution_count": 15,
   "id": "1e82c4ee-98e9-4c44-996d-cac37765909c",
   "metadata": {},
   "outputs": [
    {
     "data": {
      "text/plain": [
       "<Conv1D name=conv1d_1, built=False>"
      ]
     },
     "execution_count": 15,
     "metadata": {},
     "output_type": "execute_result"
    }
   ],
   "source": [
    "Conv1D(filters=64, kernel_size=5, activation='relu')"
   ]
  },
  {
   "cell_type": "code",
   "execution_count": 16,
   "id": "f4c1afd2-d371-43ed-bbb0-bfd0b25992b6",
   "metadata": {},
   "outputs": [],
   "source": [
    "from tensorflow.keras.models import Sequential\n",
    "from tensorflow.keras.layers import Conv1D, Dropout, GlobalAveragePooling1D, Dense\n",
    "\n",
    "model = Sequential([\n",
    "    Conv1D(filters=32, kernel_size=3, activation='relu', input_shape=(window_size, len(feature_cols))),\n",
    "    Dropout(0.2),\n",
    "    GlobalAveragePooling1D(),\n",
    "    Dense(1)  # Final output\n",
    "])"
   ]
  },
  {
   "cell_type": "code",
   "execution_count": 17,
   "id": "97d79753-cbd8-4b65-a906-f08a2d7ad884",
   "metadata": {},
   "outputs": [],
   "source": [
    "model.compile(optimizer='adam', loss='mse')"
   ]
  },
  {
   "cell_type": "code",
   "execution_count": 18,
   "id": "4ea5e583-9df9-4453-950a-4b7acd105487",
   "metadata": {},
   "outputs": [
    {
     "name": "stderr",
     "output_type": "stream",
     "text": [
      "C:\\Users\\moham\\AppData\\Local\\Temp\\ipykernel_14116\\2034600003.py:7: UserWarning: Glyph 128201 (\\N{CHART WITH DOWNWARDS TREND}) missing from font(s) DejaVu Sans.\n",
      "  plt.tight_layout()\n",
      "M:\\Data from Data is good\\Exercises on Machine Learning for Financial Data\\fraud_env\\env\\lib\\site-packages\\IPython\\core\\pylabtools.py:170: UserWarning: Glyph 128201 (\\N{CHART WITH DOWNWARDS TREND}) missing from font(s) DejaVu Sans.\n",
      "  fig.canvas.print_figure(bytes_io, **kw)\n"
     ]
    },
    {
     "data": {
      "image/png": "[encoded data removed]",
      "text/plain": [
       "<Figure size 640x480 with 1 Axes>"
      ]
     },
     "metadata": {},
     "output_type": "display_data"
    }
   ],
   "source": [
    "plt.plot(history.history['loss'], label='Train Loss', color='green')\n",
    "plt.plot(history.history['val_loss'], label='Val Loss', color='purple')\n",
    "plt.title('CNN Training Curve')\n",
    "plt.xlabel('Epoch')\n",
    "plt.ylabel('Loss (MSE)')\n",
    "plt.legend()\n",
    "plt.tight_layout()\n",
    "plt.show()"
   ]
  },
  {
   "cell_type": "code",
   "execution_count": 19,
   "id": "1994ca84-a43c-41c7-b885-3db0e6381d48",
   "metadata": {},
   "outputs": [],
   "source": [
    "model = Sequential([\n",
    "    Conv1D(64, kernel_size=5, activation='relu', input_shape=(window_size, len(feature_cols))),\n",
    "    Dropout(0.3),\n",
    "    Conv1D(32, kernel_size=3, activation='relu'),\n",
    "    Flatten(),\n",
    "    Dense(64, activation='relu'),\n",
    "    Dense(1)\n",
    "])"
   ]
  },
  {
   "cell_type": "code",
   "execution_count": 20,
   "id": "d45f5486-954d-4b75-8e2c-84a100f21c36",
   "metadata": {},
   "outputs": [
    {
     "name": "stdout",
     "output_type": "stream",
     "text": [
      "Epoch 1/30\n",
      "\u001b[1m1231/1231\u001b[0m \u001b[32m━━━━━━━━━━━━━━━━━━━━\u001b[0m\u001b[37m\u001b[0m \u001b[1m22s\u001b[0m 17ms/step - loss: 0.1996 - val_loss: 0.0227\n",
      "Epoch 2/30\n",
      "\u001b[1m1231/1231\u001b[0m \u001b[32m━━━━━━━━━━━━━━━━━━━━\u001b[0m\u001b[37m\u001b[0m \u001b[1m21s\u001b[0m 17ms/step - loss: 0.0260 - val_loss: 0.0224\n",
      "Epoch 3/30\n",
      "\u001b[1m1231/1231\u001b[0m \u001b[32m━━━━━━━━━━━━━━━━━━━━\u001b[0m\u001b[37m\u001b[0m \u001b[1m21s\u001b[0m 17ms/step - loss: 0.0267 - val_loss: 0.0224\n",
      "Epoch 4/30\n",
      "\u001b[1m1231/1231\u001b[0m \u001b[32m━━━━━━━━━━━━━━━━━━━━\u001b[0m\u001b[37m\u001b[0m \u001b[1m22s\u001b[0m 17ms/step - loss: 0.0268 - val_loss: 0.0224\n",
      "Epoch 5/30\n",
      "\u001b[1m1231/1231\u001b[0m \u001b[32m━━━━━━━━━━━━━━━━━━━━\u001b[0m\u001b[37m\u001b[0m \u001b[1m21s\u001b[0m 17ms/step - loss: 0.0269 - val_loss: 0.0224\n",
      "Epoch 6/30\n",
      "\u001b[1m1231/1231\u001b[0m \u001b[32m━━━━━━━━━━━━━━━━━━━━\u001b[0m\u001b[37m\u001b[0m \u001b[1m20s\u001b[0m 17ms/step - loss: 0.0269 - val_loss: 0.0224\n",
      "Epoch 7/30\n",
      "\u001b[1m1231/1231\u001b[0m \u001b[32m━━━━━━━━━━━━━━━━━━━━\u001b[0m\u001b[37m\u001b[0m \u001b[1m21s\u001b[0m 17ms/step - loss: 0.0269 - val_loss: 0.0224\n"
     ]
    }
   ],
   "source": [
    "model.compile(optimizer='adam', loss='mse')\n",
    "history = model.fit(\n",
    "    X_train_seq, y_train_seq,\n",
    "    validation_data=(X_val_seq, y_val_seq),\n",
    "    epochs=30,\n",
    "    batch_size=64,\n",
    "    shuffle=False,\n",
    "    callbacks=[early_stop]\n",
    ")"
   ]
  },
  {
   "cell_type": "code",
   "execution_count": 21,
   "id": "1ca84641-033b-4a34-b3eb-25f59b4b2a0d",
   "metadata": {},
   "outputs": [
    {
     "name": "stdout",
     "output_type": "stream",
     "text": [
      "\u001b[1m270/270\u001b[0m \u001b[32m━━━━━━━━━━━━━━━━━━━━\u001b[0m\u001b[37m\u001b[0m \u001b[1m1s\u001b[0m 3ms/step   \n"
     ]
    }
   ],
   "source": [
    "y_pred_cnn_scaled = model.predict(X_test_seq)"
   ]
  },
  {
   "cell_type": "code",
   "execution_count": 22,
   "id": "73c96e46-cee0-4f3c-81ce-0d5ea82a9b49",
   "metadata": {},
   "outputs": [],
   "source": [
    "y_pred_cnn_actual = scaler_y.inverse_transform(y_pred_cnn_scaled)\n",
    "y_test_actual_cnn = scaler_y.inverse_transform(y_test_seq)"
   ]
  },
  {
   "cell_type": "code",
   "execution_count": 23,
   "id": "459637a2-b764-4695-8e6a-16b21fd55495",
   "metadata": {},
   "outputs": [
    {
     "name": "stdout",
     "output_type": "stream",
     "text": [
      "🟠 CNN MAE: 7.50 °C\n",
      "🟠 CNN RMSE: 8.84 °C\n"
     ]
    }
   ],
   "source": [
    "from sklearn.metrics import mean_absolute_error, mean_squared_error\n",
    "import numpy as np\n",
    "\n",
    "mae_cnn = mean_absolute_error(y_test_actual_cnn, y_pred_cnn_actual)\n",
    "rmse_cnn = np.sqrt(mean_squared_error(y_test_actual_cnn, y_pred_cnn_actual))\n",
    "\n",
    "print(f\"🟠 CNN MAE: {mae_cnn:.2f} °C\")\n",
    "print(f\"🟠 CNN RMSE: {rmse_cnn:.2f} °C\")"
   ]
  },
  {
   "cell_type": "code",
   "execution_count": 24,
   "id": "eab48668-d989-4ffd-8896-d720a6988f37",
   "metadata": {},
   "outputs": [
    {
     "data": {
      "image/png": "[encoded data removed]",
      "text/plain": [
       "<Figure size 1200x500 with 1 Axes>"
      ]
     },
     "metadata": {},
     "output_type": "display_data"
    }
   ],
   "source": [
    "plt.figure(figsize=(12, 5))\n",
    "plt.plot(y_test_actual_cnn[:300], label='Actual Temp', color='blue', alpha=0.6)\n",
    "plt.plot(y_pred_cnn_actual[:300], label='CNN Forecast', color='orange')\n",
    "plt.title('CNN Forecast vs Actual (First 300 Hours of 2016)')\n",
    "plt.xlabel('Hour')\n",
    "plt.ylabel('Temperature (°C)')\n",
    "plt.legend()\n",
    "plt.tight_layout()\n",
    "plt.show()"
   ]
  },
  {
   "cell_type": "markdown",
   "id": "f6ce90cd-9171-4e21-81e1-b5979060ea18",
   "metadata": {},
   "source": [
    "### Interpretation of the Plot\n",
    "* Actual Temperature shows natural fluctuations from around −10°C to 15°C—there’s a clear mix of nighttime drops and daytime highs.\n",
    "\n",
    "* CNN Forecast closely tracks the blue curve in many segments, especially where temperature changes are gradual and cyclical (e.g. daily swings)."
   ]
  },
  {
   "cell_type": "markdown",
   "id": "6d3a4080-4c72-4cd1-8943-7e00669fe196",
   "metadata": {},
   "source": [
    "## Build the Hybrid CNN–LSTM Model"
   ]
  },
  {
   "cell_type": "code",
   "execution_count": 25,
   "id": "e5b803dd-2dc6-4e94-8807-c142876dee1c",
   "metadata": {},
   "outputs": [
    {
     "name": "stderr",
     "output_type": "stream",
     "text": [
      "M:\\Data from Data is good\\Exercises on Machine Learning for Financial Data\\fraud_env\\env\\lib\\site-packages\\keras\\src\\layers\\convolutional\\base_conv.py:113: UserWarning: Do not pass an `input_shape`/`input_dim` argument to a layer. When using Sequential models, prefer using an `Input(shape)` object as the first layer in the model instead.\n",
      "  super().__init__(activity_regularizer=activity_regularizer, **kwargs)\n"
     ]
    }
   ],
   "source": [
    "from tensorflow.keras.models import Sequential\n",
    "from tensorflow.keras.layers import Conv1D, MaxPooling1D, LSTM, Dropout, Dense\n",
    "\n",
    "model = Sequential([\n",
    "    Conv1D(filters=64, kernel_size=5, activation='relu', input_shape=(window_size, len(feature_cols))),\n",
    "    MaxPooling1D(pool_size=2),\n",
    "    Dropout(0.3),\n",
    "    LSTM(64, return_sequences=False),\n",
    "    Dense(1)\n",
    "])\n",
    "model.compile(optimizer='adam', loss='mse')"
   ]
  },
  {
   "cell_type": "markdown",
   "id": "3bed914f-7226-4129-9e64-ae0ba6ae1b47",
   "metadata": {},
   "source": [
    "### Multi-Step Forecasting (e.g. Next 7 Days)"
   ]
  },
  {
   "cell_type": "code",
   "execution_count": 26,
   "id": "33993062-b29e-4b78-b4cb-b4ba71dedd31",
   "metadata": {},
   "outputs": [],
   "source": [
    "def create_multistep_sequences(X, y, window_size, horizon):\n",
    "    Xs, ys = [], []\n",
    "    for i in range(len(X) - window_size - horizon + 1):\n",
    "        Xs.append(X[i:i+window_size])\n",
    "        ys.append(y[i+window_size:i+window_size+horizon])\n",
    "    return np.array(Xs), np.array(ys)"
   ]
  },
  {
   "cell_type": "code",
   "execution_count": 27,
   "id": "b14a1c49-bf64-49de-ad57-3dc227c64210",
   "metadata": {},
   "outputs": [],
   "source": [
    "X_train = scaler_X.transform(train_df[feature_cols])\n",
    "y_train = scaler_y.transform(train_df[[target_col]])"
   ]
  },
  {
   "cell_type": "code",
   "execution_count": 28,
   "id": "3b003d5d-3c3a-4682-85f9-f3a738556e55",
   "metadata": {},
   "outputs": [],
   "source": [
    "window_size = 168     # past 7 days\n",
    "horizon = 7           # forecast next 7 hours (or days)\n",
    "\n",
    "X_train_ms, y_train_ms = create_multistep_sequences(X_train, y_train, window_size, horizon)\n",
    "X_val_ms, y_val_ms     = create_multistep_sequences(X_val, y_val, window_size, horizon)\n",
    "X_test_ms, y_test_ms   = create_multistep_sequences(X_test, y_test, window_size, horizon)"
   ]
  },
  {
   "cell_type": "markdown",
   "id": "7240d754-cba4-4eec-9c9c-b79f37e7dbeb",
   "metadata": {},
   "source": [
    "### Build a CNN Model for Multi-Step Output"
   ]
  },
  {
   "cell_type": "code",
   "execution_count": 29,
   "id": "dd3a6b78-c985-4cac-ab5a-32e7adbac426",
   "metadata": {},
   "outputs": [
    {
     "name": "stderr",
     "output_type": "stream",
     "text": [
      "M:\\Data from Data is good\\Exercises on Machine Learning for Financial Data\\fraud_env\\env\\lib\\site-packages\\keras\\src\\layers\\convolutional\\base_conv.py:113: UserWarning: Do not pass an `input_shape`/`input_dim` argument to a layer. When using Sequential models, prefer using an `Input(shape)` object as the first layer in the model instead.\n",
      "  super().__init__(activity_regularizer=activity_regularizer, **kwargs)\n"
     ]
    }
   ],
   "source": [
    "from tensorflow.keras.models import Sequential\n",
    "from tensorflow.keras.layers import Conv1D, Dropout, Flatten, Dense\n",
    "\n",
    "model = Sequential([\n",
    "    Conv1D(filters=64, kernel_size=5, activation='relu', input_shape=(window_size, X_train_ms.shape[2])),\n",
    "    Dropout(0.3),\n",
    "    Flatten(),\n",
    "    Dense(128, activation='relu'),\n",
    "    Dense(horizon)  # horizon = 7\n",
    "])\n",
    "model.compile(optimizer='adam', loss='mse')"
   ]
  },
  {
   "cell_type": "markdown",
   "id": "63d6b1fa-a95c-49a7-872b-d5d06fd11877",
   "metadata": {},
   "source": [
    "#### Train the Model"
   ]
  },
  {
   "cell_type": "code",
   "execution_count": 30,
   "id": "f6e48c01-2c71-41ee-bd20-6f938a49a442",
   "metadata": {},
   "outputs": [
    {
     "name": "stdout",
     "output_type": "stream",
     "text": [
      "Epoch 1/30\n",
      "\u001b[1m1231/1231\u001b[0m \u001b[32m━━━━━━━━━━━━━━━━━━━━\u001b[0m\u001b[37m\u001b[0m \u001b[1m27s\u001b[0m 21ms/step - loss: 0.0908 - val_loss: 0.3185\n",
      "Epoch 2/30\n",
      "\u001b[1m1231/1231\u001b[0m \u001b[32m━━━━━━━━━━━━━━━━━━━━\u001b[0m\u001b[37m\u001b[0m \u001b[1m34s\u001b[0m 28ms/step - loss: 0.0084 - val_loss: 0.0779\n",
      "Epoch 3/30\n",
      "\u001b[1m1231/1231\u001b[0m \u001b[32m━━━━━━━━━━━━━━━━━━━━\u001b[0m\u001b[37m\u001b[0m \u001b[1m52s\u001b[0m 36ms/step - loss: 0.0063 - val_loss: 0.0099\n",
      "Epoch 4/30\n",
      "\u001b[1m1231/1231\u001b[0m \u001b[32m━━━━━━━━━━━━━━━━━━━━\u001b[0m\u001b[37m\u001b[0m \u001b[1m42s\u001b[0m 34ms/step - loss: 0.0050 - val_loss: 0.0100\n",
      "Epoch 5/30\n",
      "\u001b[1m1231/1231\u001b[0m \u001b[32m━━━━━━━━━━━━━━━━━━━━\u001b[0m\u001b[37m\u001b[0m \u001b[1m75s\u001b[0m 28ms/step - loss: 0.0050 - val_loss: 0.0060\n",
      "Epoch 6/30\n",
      "\u001b[1m1231/1231\u001b[0m \u001b[32m━━━━━━━━━━━━━━━━━━━━\u001b[0m\u001b[37m\u001b[0m \u001b[1m40s\u001b[0m 26ms/step - loss: 0.0045 - val_loss: 0.0079\n",
      "Epoch 7/30\n",
      "\u001b[1m1231/1231\u001b[0m \u001b[32m━━━━━━━━━━━━━━━━━━━━\u001b[0m\u001b[37m\u001b[0m \u001b[1m43s\u001b[0m 28ms/step - loss: 0.0043 - val_loss: 0.0042\n",
      "Epoch 8/30\n",
      "\u001b[1m1231/1231\u001b[0m \u001b[32m━━━━━━━━━━━━━━━━━━━━\u001b[0m\u001b[37m\u001b[0m \u001b[1m41s\u001b[0m 28ms/step - loss: 0.0043 - val_loss: 0.0042\n",
      "Epoch 9/30\n",
      "\u001b[1m1231/1231\u001b[0m \u001b[32m━━━━━━━━━━━━━━━━━━━━\u001b[0m\u001b[37m\u001b[0m \u001b[1m41s\u001b[0m 28ms/step - loss: 0.0043 - val_loss: 0.0053\n",
      "Epoch 10/30\n",
      "\u001b[1m1231/1231\u001b[0m \u001b[32m━━━━━━━━━━━━━━━━━━━━\u001b[0m\u001b[37m\u001b[0m \u001b[1m38s\u001b[0m 31ms/step - loss: 0.0041 - val_loss: 0.0040\n",
      "Epoch 11/30\n",
      "\u001b[1m1231/1231\u001b[0m \u001b[32m━━━━━━━━━━━━━━━━━━━━\u001b[0m\u001b[37m\u001b[0m \u001b[1m42s\u001b[0m 32ms/step - loss: 0.0042 - val_loss: 0.0039\n",
      "Epoch 12/30\n",
      "\u001b[1m1231/1231\u001b[0m \u001b[32m━━━━━━━━━━━━━━━━━━━━\u001b[0m\u001b[37m\u001b[0m \u001b[1m40s\u001b[0m 31ms/step - loss: 0.0042 - val_loss: 0.0044\n",
      "Epoch 13/30\n",
      "\u001b[1m1231/1231\u001b[0m \u001b[32m━━━━━━━━━━━━━━━━━━━━\u001b[0m\u001b[37m\u001b[0m \u001b[1m40s\u001b[0m 31ms/step - loss: 0.0046 - val_loss: 0.0057\n",
      "Epoch 14/30\n",
      "\u001b[1m1231/1231\u001b[0m \u001b[32m━━━━━━━━━━━━━━━━━━━━\u001b[0m\u001b[37m\u001b[0m \u001b[1m43s\u001b[0m 32ms/step - loss: 0.0041 - val_loss: 0.0042\n",
      "Epoch 15/30\n",
      "\u001b[1m1231/1231\u001b[0m \u001b[32m━━━━━━━━━━━━━━━━━━━━\u001b[0m\u001b[37m\u001b[0m \u001b[1m44s\u001b[0m 34ms/step - loss: 0.0041 - val_loss: 0.0050\n",
      "Epoch 16/30\n",
      "\u001b[1m1231/1231\u001b[0m \u001b[32m━━━━━━━━━━━━━━━━━━━━\u001b[0m\u001b[37m\u001b[0m \u001b[1m38s\u001b[0m 31ms/step - loss: 0.0040 - val_loss: 0.0052\n"
     ]
    }
   ],
   "source": [
    "from tensorflow.keras.callbacks import EarlyStopping\n",
    "\n",
    "early_stop = EarlyStopping(monitor='val_loss', patience=5, restore_best_weights=True)\n",
    "\n",
    "history = model.fit(\n",
    "    X_train_ms, y_train_ms,\n",
    "    validation_data=(X_val_ms, y_val_ms),\n",
    "    epochs=30,\n",
    "    batch_size=64,\n",
    "    shuffle=False,\n",
    "    callbacks=[early_stop]\n",
    ")"
   ]
  },
  {
   "cell_type": "markdown",
   "id": "e82cd278-07fd-4b35-b452-035662ec9d71",
   "metadata": {},
   "source": [
    "### Make Predictions and Inverse Transform"
   ]
  },
  {
   "cell_type": "code",
   "execution_count": 31,
   "id": "81617548-8fd6-4072-95c9-504ddbce3f62",
   "metadata": {},
   "outputs": [],
   "source": [
    "# Reshape test targets for inverse transform\n",
    "y_test_ms_reshaped = y_test_ms.reshape((y_test_ms.shape[0], y_test_ms.shape[1]))\n",
    "y_test_ms_actual = scaler_y.inverse_transform(y_test_ms_reshaped)"
   ]
  },
  {
   "cell_type": "code",
   "execution_count": 32,
   "id": "2f8ba5d8-a036-4803-b6ac-5c7e702ce03a",
   "metadata": {},
   "outputs": [
    {
     "name": "stdout",
     "output_type": "stream",
     "text": [
      "\u001b[1m270/270\u001b[0m \u001b[32m━━━━━━━━━━━━━━━━━━━━\u001b[0m\u001b[37m\u001b[0m \u001b[1m1s\u001b[0m 5ms/step   \n"
     ]
    }
   ],
   "source": [
    "# Predict and inverse transform forecast\n",
    "y_pred_ms_scaled = model.predict(X_test_ms)\n",
    "y_pred_ms_actual = scaler_y.inverse_transform(y_pred_ms_scaled)"
   ]
  },
  {
   "cell_type": "markdown",
   "id": "66d16410-1e99-4daf-b0d9-51e37d207875",
   "metadata": {},
   "source": [
    "#### Plot the Forecast"
   ]
  },
  {
   "cell_type": "code",
   "execution_count": 33,
   "id": "c22f3ad3-255f-4a15-9d51-f62ec37fc365",
   "metadata": {},
   "outputs": [
    {
     "data": {
      "image/png": "[encoded data removed]",
      "text/plain": [
       "<Figure size 800x500 with 1 Axes>"
      ]
     },
     "metadata": {},
     "output_type": "display_data"
    }
   ],
   "source": [
    "plt.figure(figsize=(8, 5))\n",
    "plt.plot(y_test_ms_actual[0], label='Actual', marker='o')\n",
    "plt.plot(y_pred_ms_actual[0], label='CNN Forecast', marker='x')\n",
    "plt.title('CNN Multi-Step Forecast (First Sample)')\n",
    "plt.xlabel('Forecast Horizon (Hours)')\n",
    "plt.ylabel('Temperature (°C)')\n",
    "plt.legend()\n",
    "plt.tight_layout()\n",
    "plt.show()"
   ]
  },
  {
   "cell_type": "markdown",
   "id": "39838f10-1163-4367-9719-ea85288975b2",
   "metadata": {},
   "source": [
    "### Learning Rate Tuning with Adam Optimizer"
   ]
  },
  {
   "cell_type": "code",
   "execution_count": 34,
   "id": "9fd984ab-2a9f-4de7-83e6-44d1e0930e2e",
   "metadata": {},
   "outputs": [
    {
     "name": "stderr",
     "output_type": "stream",
     "text": [
      "M:\\Data from Data is good\\Exercises on Machine Learning for Financial Data\\fraud_env\\env\\lib\\site-packages\\keras\\src\\layers\\convolutional\\base_conv.py:113: UserWarning: Do not pass an `input_shape`/`input_dim` argument to a layer. When using Sequential models, prefer using an `Input(shape)` object as the first layer in the model instead.\n",
      "  super().__init__(activity_regularizer=activity_regularizer, **kwargs)\n"
     ]
    }
   ],
   "source": [
    "from tensorflow.keras.optimizers import Adam\n",
    "\n",
    "# Model with default learning rate\n",
    "model_lr1 = Sequential([\n",
    "    Conv1D(64, kernel_size=5, activation='relu', input_shape=(window_size, X_train_ms.shape[2])),\n",
    "    Dropout(0.3),\n",
    "    Flatten(),\n",
    "    Dense(128, activation='relu'),\n",
    "    Dense(horizon)\n",
    "])\n",
    "model_lr1.compile(optimizer=Adam(learning_rate=0.001), loss='mse')"
   ]
  },
  {
   "cell_type": "markdown",
   "id": "f344d7d4-6c48-4e10-a769-6bdf5d185eb5",
   "metadata": {},
   "source": [
    "### CNN–LSTM Hybrid Model"
   ]
  },
  {
   "cell_type": "code",
   "execution_count": 35,
   "id": "2177afb0-72e4-4597-9c32-0c6ae05da021",
   "metadata": {},
   "outputs": [],
   "source": [
    "from tensorflow.keras.layers import Conv1D, MaxPooling1D, LSTM, Dropout, Dense\n",
    "\n",
    "model_hybrid = Sequential([\n",
    "    Conv1D(filters=64, kernel_size=5, activation='relu', input_shape=(window_size, X_train_ms.shape[2])),\n",
    "    MaxPooling1D(pool_size=2),\n",
    "    Dropout(0.3),\n",
    "    LSTM(64),\n",
    "    Dense(horizon)  # Predict next 7 temperatures\n",
    "])\n",
    "model_hybrid.compile(optimizer='adam', loss='mse')"
   ]
  },
  {
   "cell_type": "markdown",
   "id": "575a0c75-9a40-4cff-a43e-8c9a4f327e09",
   "metadata": {},
   "source": [
    "### Evaluation and Comparison"
   ]
  },
  {
   "cell_type": "code",
   "execution_count": 36,
   "id": "f6b9f999-6bd7-4f39-a849-d158f3636e7d",
   "metadata": {},
   "outputs": [],
   "source": [
    "# Reshape from 3D → 2D for inverse transform\n",
    "y_test_ms_reshaped = y_test_ms.reshape((y_test_ms.shape[0], y_test_ms.shape[1]))\n",
    "\n",
    "# Convert to actual °C values\n",
    "y_test_actual = scaler_y.inverse_transform(y_test_ms_reshaped)"
   ]
  },
  {
   "cell_type": "code",
   "execution_count": 37,
   "id": "5545e4fd-b85f-44dd-a6fc-bee07e45b160",
   "metadata": {},
   "outputs": [
    {
     "name": "stdout",
     "output_type": "stream",
     "text": [
      "\u001b[1m270/270\u001b[0m \u001b[32m━━━━━━━━━━━━━━━━━━━━\u001b[0m\u001b[37m\u001b[0m \u001b[1m1s\u001b[0m 3ms/step \n"
     ]
    }
   ],
   "source": [
    "y_pred_scaled = model.predict(X_test_ms)\n",
    "y_pred_actual = scaler_y.inverse_transform(y_pred_scaled)"
   ]
  },
  {
   "cell_type": "code",
   "execution_count": 38,
   "id": "db18ce06-1eee-44ba-908b-a3203ae7a15a",
   "metadata": {},
   "outputs": [],
   "source": [
    "mae = mean_absolute_error(y_test_actual, y_pred_actual)\n",
    "rmse = np.sqrt(mean_squared_error(y_test_actual, y_pred_actual))"
   ]
  },
  {
   "cell_type": "code",
   "execution_count": 39,
   "id": "dd9e67ae-474d-4284-908a-1a6294b87c51",
   "metadata": {},
   "outputs": [
    {
     "name": "stdout",
     "output_type": "stream",
     "text": [
      "MAE: 2.80 °C\n",
      "RMSE: 3.61 °C\n"
     ]
    }
   ],
   "source": [
    "from sklearn.metrics import mean_absolute_error, mean_squared_error\n",
    "import numpy as np\n",
    "\n",
    "mae = mean_absolute_error(y_test_actual, y_pred_actual)\n",
    "rmse = np.sqrt(mean_squared_error(y_test_actual, y_pred_actual))\n",
    "\n",
    "print(f\"MAE: {mae:.2f} °C\")\n",
    "print(f\"RMSE: {rmse:.2f} °C\")"
   ]
  },
  {
   "cell_type": "markdown",
   "id": "4b251503-335c-4c9f-9ec7-f0fc487032ba",
   "metadata": {},
   "source": [
    "### CNN with Default Learning Rate (0.001)"
   ]
  },
  {
   "cell_type": "code",
   "execution_count": 40,
   "id": "1ced3298-fa5e-48d9-bc4c-ccc39a1d6b67",
   "metadata": {},
   "outputs": [
    {
     "name": "stderr",
     "output_type": "stream",
     "text": [
      "M:\\Data from Data is good\\Exercises on Machine Learning for Financial Data\\fraud_env\\env\\lib\\site-packages\\keras\\src\\layers\\convolutional\\base_conv.py:113: UserWarning: Do not pass an `input_shape`/`input_dim` argument to a layer. When using Sequential models, prefer using an `Input(shape)` object as the first layer in the model instead.\n",
      "  super().__init__(activity_regularizer=activity_regularizer, **kwargs)\n"
     ]
    }
   ],
   "source": [
    "from tensorflow.keras.optimizers import Adam\n",
    "\n",
    "# Model with default learning rate\n",
    "model_cnn_lr1 = Sequential([\n",
    "    Conv1D(64, kernel_size=5, activation='relu', input_shape=(window_size, X_train_ms.shape[2])),\n",
    "    Dropout(0.3),\n",
    "    Flatten(),\n",
    "    Dense(128, activation='relu'),\n",
    "    Dense(horizon)\n",
    "])\n",
    "model_cnn_lr1.compile(optimizer=Adam(learning_rate=0.001), loss='mse')"
   ]
  },
  {
   "cell_type": "code",
   "execution_count": 41,
   "id": "7237c56a-42ad-4b86-9637-413c80d525ba",
   "metadata": {},
   "outputs": [
    {
     "name": "stdout",
     "output_type": "stream",
     "text": [
      "\u001b[1m270/270\u001b[0m \u001b[32m━━━━━━━━━━━━━━━━━━━━\u001b[0m\u001b[37m\u001b[0m \u001b[1m1s\u001b[0m 3ms/step   \n",
      "MAE: 38.53 °C\n",
      "RMSE: 43.13 °C\n"
     ]
    }
   ],
   "source": [
    "y_pred_cnn_scaled = model_cnn_lr1.predict(X_test_ms)\n",
    "y_pred_cnn_actual = scaler_y.inverse_transform(y_pred_cnn_scaled)\n",
    "\n",
    "mae_cnn_lr1 = mean_absolute_error(y_test_actual, y_pred_cnn_actual)\n",
    "rmse_cnn_lr1 = np.sqrt(mean_squared_error(y_test_actual, y_pred_cnn_actual))\n",
    "\n",
    "print(f\"MAE: {mae_cnn_lr1:.2f} °C\")\n",
    "print(f\"RMSE: {rmse_cnn_lr1:.2f} °C\")"
   ]
  },
  {
   "cell_type": "markdown",
   "id": "95acb139-6c45-44a1-a219-249c55cdc474",
   "metadata": {},
   "source": [
    "### CNN with Learning Rate (0.0005)"
   ]
  },
  {
   "cell_type": "code",
   "execution_count": 42,
   "id": "96290859-3733-4f52-bc8e-aa089b7c7b0c",
   "metadata": {},
   "outputs": [
    {
     "name": "stderr",
     "output_type": "stream",
     "text": [
      "M:\\Data from Data is good\\Exercises on Machine Learning for Financial Data\\fraud_env\\env\\lib\\site-packages\\keras\\src\\layers\\convolutional\\base_conv.py:113: UserWarning: Do not pass an `input_shape`/`input_dim` argument to a layer. When using Sequential models, prefer using an `Input(shape)` object as the first layer in the model instead.\n",
      "  super().__init__(activity_regularizer=activity_regularizer, **kwargs)\n"
     ]
    }
   ],
   "source": [
    "from tensorflow.keras.optimizers import Adam\n",
    "\n",
    "# Model with default learning rate\n",
    "model_cnn_lr2 = Sequential([\n",
    "    Conv1D(64, kernel_size=5, activation='relu', input_shape=(window_size, X_train_ms.shape[2])),\n",
    "    Dropout(0.3),\n",
    "    Flatten(),\n",
    "    Dense(128, activation='relu'),\n",
    "    Dense(horizon)\n",
    "])\n",
    "model_cnn_lr2.compile(optimizer=Adam(learning_rate=0.0005), loss='mse')"
   ]
  },
  {
   "cell_type": "code",
   "execution_count": 43,
   "id": "96765f10-c599-4962-bcdf-e9fe73bfdc49",
   "metadata": {},
   "outputs": [
    {
     "name": "stdout",
     "output_type": "stream",
     "text": [
      "\u001b[1m270/270\u001b[0m \u001b[32m━━━━━━━━━━━━━━━━━━━━\u001b[0m\u001b[37m\u001b[0m \u001b[1m1s\u001b[0m 4ms/step\n",
      "MAE: 34.83 °C\n",
      "RMSE: 40.71 °C\n"
     ]
    }
   ],
   "source": [
    "# Predict using model_cnn_lr2\n",
    "y_pred_cnn_scaled_lr2 = model_cnn_lr2.predict(X_test_ms)\n",
    "y_pred_cnn_actual_lr2 = scaler_y.inverse_transform(y_pred_cnn_scaled_lr2)\n",
    "\n",
    "mae_cnn_lr2 = mean_absolute_error(y_test_actual, y_pred_cnn_actual_lr2)\n",
    "rmse_cnn_lr2 = np.sqrt(mean_squared_error(y_test_actual, y_pred_cnn_actual_lr2))\n",
    "\n",
    "print(f\"MAE: {mae_cnn_lr2:.2f} °C\")\n",
    "print(f\"RMSE: {rmse_cnn_lr2:.2f} °C\")"
   ]
  },
  {
   "cell_type": "markdown",
   "id": "64086538-351c-4497-a108-dce55f813f04",
   "metadata": {},
   "source": [
    "* Lower learning rate caused slower weight updates, but instead of improving stability, it likely led the model to get stuck in poor local minima or underfit altogether.\n",
    "\n",
    "* The model struggled to converge and never properly learned from the training data—those metrics indicate it’s barely forecasting anything useful."
   ]
  },
  {
   "cell_type": "code",
   "execution_count": 44,
   "id": "1629b0dd-2c7f-4b5d-81c4-682d589ea4d8",
   "metadata": {},
   "outputs": [
    {
     "name": "stdout",
     "output_type": "stream",
     "text": [
      "             Model Learning Rate  MAE (°C)  RMSE (°C)\n",
      "CNN (Default Adam)         0.001 34.830824  40.707956\n",
      " CNN (Adam 0.0005)        0.0005 38.533803  43.129884\n",
      "   CNN–LSTM Hybrid         0.001  2.803687   3.611234\n"
     ]
    }
   ],
   "source": [
    "import pandas as pd\n",
    "\n",
    "# Your recorded metrics\n",
    "data = {\n",
    "    'Model': ['CNN (Default Adam)', 'CNN (Adam 0.0005)', 'CNN–LSTM Hybrid'],\n",
    "    'Learning Rate': ['0.001', '0.0005', '0.001'],\n",
    "    'MAE (°C)': [mae_cnn_lr2, mae_cnn_lr1, mae],\n",
    "    'RMSE (°C)': [rmse_cnn_lr2, rmse_cnn_lr1, rmse]\n",
    "}\n",
    "\n",
    "# Create the table\n",
    "df_results = pd.DataFrame(data)\n",
    "\n",
    "# Display\n",
    "print(df_results.to_string(index=False))\n"
   ]
  },
  {
   "cell_type": "markdown",
   "id": "ad3b039c-cf8c-4cc5-8b2f-a8c12ea88d5b",
   "metadata": {},
   "source": [
    "Throughout the tuning phase, I tested several CNN configurations with varying learning rates and model architectures. The baseline CNN with Adam (0.001) produced poor results (MAE ≈ 35 °C), indicating limited feature extraction and temporal modeling. Lowering the learning rate to 0.0005 helped convergence but still resulted in insufficient accuracy (MAE ≈ 39 °C). The most impactful enhancement came from integrating CNN with an LSTM layer, creating a hybrid model that combined short-term feature extraction with long-term memory. This configuration significantly improved forecasting performance, achieving a MAE of 2.86 °C and RMSE of 3.61 °C, showcasing the benefit of architectural synergy in time series learning."
   ]
  }
 ],
 "metadata": {
  "kernelspec": {
   "display_name": "Python 3 (ipykernel)",
   "language": "python",
   "name": "python3"
  },
  "language_info": {
   "codemirror_mode": {
    "name": "ipython",
    "version": 3
   },
   "file_extension": ".py",
   "mimetype": "text/x-python",
   "name": "python",
   "nbconvert_exporter": "python",
   "pygments_lexer": "ipython3",
   "version": "3.10.18"
  }
 },
 "nbformat": 4,
 "nbformat_minor": 5
}
